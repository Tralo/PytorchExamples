{
 "cells": [
  {
   "cell_type": "markdown",
   "metadata": {},
   "source": [
    "## 数据并行\n",
    "在这个教程里，我们将学习如何使用 DataParallel 来使用多GPU。\n",
    "\n",
    "PyTorch非常容易就可以使用多GPU，用如下方式把一个模型放到GPU上：\n",
    "```\n",
    "device = torch.device(\"cuda:0\")\n",
    "    model.to(device)\n",
    "```\n",
    "GPU: 然后复制所有的张量到GPU上：\n",
    "```\n",
    "mytensor = my_tensor.to(device)\n",
    "```\n",
    "\n",
    "请注意，只调用my_tensor.to(device)并没有复制张量到GPU上，而是返回了一个copy。所以你需要把它赋值给一个新的张量并在GPU上使用这个张量。\n",
    "\n",
    "在多GPU上执行前向和反向传播是自然而然的事。 但是PyTorch默认将只使用一个GPU。\n",
    "\n",
    "使用DataParallel可以轻易的让模型并行运行在多个GPU上。\n",
    "```\n",
    "model = nn.DataParallel(model)\n",
    "```\n",
    "这才是这篇教程的核心，接下来我们将更详细的介绍它。\n",
    "\n",
    "## 导入和参数\n",
    "导入PyTorch模块和定义参数。"
   ]
  },
  {
   "cell_type": "code",
   "execution_count": 1,
   "metadata": {},
   "outputs": [],
   "source": [
    "import torch\n",
    "import torch.nn as nn\n",
    "from torch.utils.data import Dataset, DataLoader\n",
    "\n",
    "# Parameters and DataLoaders\n",
    "input_size = 5\n",
    "output_size = 2\n",
    "\n",
    "batch_size = 30\n",
    "data_size = 100"
   ]
  },
  {
   "cell_type": "markdown",
   "metadata": {},
   "source": [
    "## 简单模型\n",
    "作为演示，我们的模型只接受一个输入，执行一个线性操作，然后得到结果。 说明：DataParallel能在任何模型（CNN，RNN，Capsule Net等）上使用。\n",
    "\n",
    "我们在模型内部放置了一条打印语句来打印输入和输出向量的大小。\n",
    "\n",
    "请注意批次的秩为0时打印的内容。"
   ]
  },
  {
   "cell_type": "code",
   "execution_count": 3,
   "metadata": {},
   "outputs": [],
   "source": [
    "class Model(nn.Module):\n",
    "    # Our model\n",
    "\n",
    "    def __init__(self, input_size, output_size):\n",
    "        super(Model, self).__init__()\n",
    "        self.fc = nn.Linear(input_size, output_size)\n",
    "\n",
    "    def forward(self, input):\n",
    "        output = self.fc(input)\n",
    "        print(\"\\tIn Model: input size\", input.size(),\n",
    "              \"output size\", output.size())\n",
    "\n",
    "        return output"
   ]
  },
  {
   "cell_type": "code",
   "execution_count": null,
   "metadata": {},
   "outputs": [],
   "source": []
  }
 ],
 "metadata": {
  "kernelspec": {
   "display_name": "Python 3",
   "language": "python",
   "name": "python3"
  },
  "language_info": {
   "codemirror_mode": {
    "name": "ipython",
    "version": 3
   },
   "file_extension": ".py",
   "mimetype": "text/x-python",
   "name": "python",
   "nbconvert_exporter": "python",
   "pygments_lexer": "ipython3",
   "version": "3.6.5"
  }
 },
 "nbformat": 4,
 "nbformat_minor": 2
}
